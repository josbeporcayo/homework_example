{
 "metadata": {
  "language_info": {
   "codemirror_mode": {
    "name": "ipython",
    "version": 3
   },
   "file_extension": ".py",
   "mimetype": "text/x-python",
   "name": "python",
   "nbconvert_exporter": "python",
   "pygments_lexer": "ipython3",
   "version": "3.8.3-final"
  },
  "orig_nbformat": 2,
  "kernelspec": {
   "name": "Python 3.8.3 64-bit ('base': conda)",
   "display_name": "Python 3.8.3 64-bit ('base': conda)",
   "metadata": {
    "interpreter": {
     "hash": "9222ec844bc097f69fd4983cef35d171ad24af62747ab3b9b2bb3c6dcc1d781e"
    }
   }
  }
 },
 "nbformat": 4,
 "nbformat_minor": 2,
 "cells": [
  {
   "source": [
    "## PyPoll\n",
    "\n",
    "![Vote Counting](Images/Vote_counting.png)\n",
    "\n",
    "* In this challenge, you are tasked with helping a small, rural town modernize its vote counting process.\n",
    "\n",
    "* You will be give a set of poll data called [election_data.csv](PyPoll/Resources/election_data.csv). The dataset is composed of three columns: `Voter ID`, `County`, and `Candidate`. Your task is to create a Python script that analyzes the votes and calculates each of the following:\n",
    "\n",
    "  * The total number of votes cast\n",
    "\n",
    "  * A complete list of candidates who received votes\n",
    "\n",
    "  * The percentage of votes each candidate won\n",
    "\n",
    "  * The total number of votes each candidate won\n",
    "\n",
    "  * The winner of the election based on popular vote.\n",
    "\n",
    "* As an example, your analysis should look similar to the one below:\n",
    "\n",
    "  ```text\n",
    "  Election Results\n",
    "  -------------------------\n",
    "  Total Votes: 3521001\n",
    "  -------------------------\n",
    "  Khan: 63.000% (2218231)\n",
    "  Correy: 20.000% (704200)\n",
    "  Li: 14.000% (492940)\n",
    "  O'Tooley: 3.000% (105630)\n",
    "  -------------------------\n",
    "  Winner: Khan\n",
    "  -------------------------\n",
    "  ```\n",
    "\n",
    "* In addition, your final script should both print the analysis to the terminal and export a text file with the results."
   ],
   "cell_type": "markdown",
   "metadata": {}
  },
  {
   "cell_type": "code",
   "execution_count": 1,
   "metadata": {},
   "outputs": [],
   "source": [
    "import pandas as pd"
   ]
  },
  {
   "cell_type": "code",
   "execution_count": 2,
   "metadata": {},
   "outputs": [
    {
     "output_type": "execute_result",
     "data": {
      "text/plain": [
       "         Voter ID County Candidate\n",
       "0        12864552  Marsh      Khan\n",
       "1        17444633  Marsh    Correy\n",
       "2        19330107  Marsh      Khan\n",
       "3        19865775  Queen      Khan\n",
       "4        11927875  Marsh      Khan\n",
       "...           ...    ...       ...\n",
       "3520996  18050509  Marsh      Khan\n",
       "3520997  13060332  Marsh      Khan\n",
       "3520998  16754708  Queen      Khan\n",
       "3520999  12083146  Queen      Khan\n",
       "3521000  14526187  Queen  O'Tooley\n",
       "\n",
       "[3521001 rows x 3 columns]"
      ],
      "text/html": "<div>\n<style scoped>\n    .dataframe tbody tr th:only-of-type {\n        vertical-align: middle;\n    }\n\n    .dataframe tbody tr th {\n        vertical-align: top;\n    }\n\n    .dataframe thead th {\n        text-align: right;\n    }\n</style>\n<table border=\"1\" class=\"dataframe\">\n  <thead>\n    <tr style=\"text-align: right;\">\n      <th></th>\n      <th>Voter ID</th>\n      <th>County</th>\n      <th>Candidate</th>\n    </tr>\n  </thead>\n  <tbody>\n    <tr>\n      <th>0</th>\n      <td>12864552</td>\n      <td>Marsh</td>\n      <td>Khan</td>\n    </tr>\n    <tr>\n      <th>1</th>\n      <td>17444633</td>\n      <td>Marsh</td>\n      <td>Correy</td>\n    </tr>\n    <tr>\n      <th>2</th>\n      <td>19330107</td>\n      <td>Marsh</td>\n      <td>Khan</td>\n    </tr>\n    <tr>\n      <th>3</th>\n      <td>19865775</td>\n      <td>Queen</td>\n      <td>Khan</td>\n    </tr>\n    <tr>\n      <th>4</th>\n      <td>11927875</td>\n      <td>Marsh</td>\n      <td>Khan</td>\n    </tr>\n    <tr>\n      <th>...</th>\n      <td>...</td>\n      <td>...</td>\n      <td>...</td>\n    </tr>\n    <tr>\n      <th>3520996</th>\n      <td>18050509</td>\n      <td>Marsh</td>\n      <td>Khan</td>\n    </tr>\n    <tr>\n      <th>3520997</th>\n      <td>13060332</td>\n      <td>Marsh</td>\n      <td>Khan</td>\n    </tr>\n    <tr>\n      <th>3520998</th>\n      <td>16754708</td>\n      <td>Queen</td>\n      <td>Khan</td>\n    </tr>\n    <tr>\n      <th>3520999</th>\n      <td>12083146</td>\n      <td>Queen</td>\n      <td>Khan</td>\n    </tr>\n    <tr>\n      <th>3521000</th>\n      <td>14526187</td>\n      <td>Queen</td>\n      <td>O'Tooley</td>\n    </tr>\n  </tbody>\n</table>\n<p>3521001 rows × 3 columns</p>\n</div>"
     },
     "metadata": {},
     "execution_count": 2
    }
   ],
   "source": [
    "pypolldata=pd.read_csv('Resources//election_data.csv')\n",
    "pypolldata"
   ]
  },
  {
   "cell_type": "code",
   "execution_count": 3,
   "metadata": {},
   "outputs": [
    {
     "output_type": "execute_result",
     "data": {
      "text/plain": [
       "3521001"
      ]
     },
     "metadata": {},
     "execution_count": 3
    }
   ],
   "source": [
    "totalnumvotes=pypolldata['Voter ID'].count()\n",
    "totalnumvotes"
   ]
  },
  {
   "cell_type": "code",
   "execution_count": 6,
   "metadata": {},
   "outputs": [
    {
     "output_type": "execute_result",
     "data": {
      "text/plain": [
       "['Khan', 'Correy', 'Li', \"O'Tooley\"]"
      ]
     },
     "metadata": {},
     "execution_count": 6
    }
   ],
   "source": [
    "uniquecandidates=list(pypolldata['Candidate'].unique())\n",
    "uniquecandidates"
   ]
  },
  {
   "cell_type": "code",
   "execution_count": 9,
   "metadata": {},
   "outputs": [
    {
     "output_type": "execute_result",
     "data": {
      "text/plain": [
       "  Candidate  Voter ID  Percentage of total votes\n",
       "0    Correy    704200                       0.20\n",
       "1      Khan   2218231                       0.63\n",
       "2        Li    492940                       0.14\n",
       "3  O'Tooley    105630                       0.03"
      ],
      "text/html": "<div>\n<style scoped>\n    .dataframe tbody tr th:only-of-type {\n        vertical-align: middle;\n    }\n\n    .dataframe tbody tr th {\n        vertical-align: top;\n    }\n\n    .dataframe thead th {\n        text-align: right;\n    }\n</style>\n<table border=\"1\" class=\"dataframe\">\n  <thead>\n    <tr style=\"text-align: right;\">\n      <th></th>\n      <th>Candidate</th>\n      <th>Voter ID</th>\n      <th>Percentage of total votes</th>\n    </tr>\n  </thead>\n  <tbody>\n    <tr>\n      <th>0</th>\n      <td>Correy</td>\n      <td>704200</td>\n      <td>0.20</td>\n    </tr>\n    <tr>\n      <th>1</th>\n      <td>Khan</td>\n      <td>2218231</td>\n      <td>0.63</td>\n    </tr>\n    <tr>\n      <th>2</th>\n      <td>Li</td>\n      <td>492940</td>\n      <td>0.14</td>\n    </tr>\n    <tr>\n      <th>3</th>\n      <td>O'Tooley</td>\n      <td>105630</td>\n      <td>0.03</td>\n    </tr>\n  </tbody>\n</table>\n</div>"
     },
     "metadata": {},
     "execution_count": 9
    }
   ],
   "source": [
    "grouptotalvotes=pypolldata[['Candidate','Voter ID']].groupby('Candidate').count().reset_index()\n",
    "grouptotalvotes['Percentage of total votes']=grouptotalvotes['Voter ID']/grouptotalvotes['Voter ID'].sum()\n",
    "grouptotalvotes"
   ]
  },
  {
   "cell_type": "code",
   "execution_count": 23,
   "metadata": {},
   "outputs": [],
   "source": [
    "khan=grouptotalvotes.iat[1,2]\n",
    "correy=grouptotalvotes.iat[0,2]\n",
    "li=grouptotalvotes.iat[2,2]\n",
    "otool=grouptotalvotes.iat[3,2]\n",
    "\n",
    "khanvote=grouptotalvotes.iat[1,1]\n",
    "correyvote=grouptotalvotes.iat[0,1]\n",
    "livote=grouptotalvotes.iat[2,1]\n",
    "otoolvote=grouptotalvotes.iat[3,1]"
   ]
  },
  {
   "cell_type": "code",
   "execution_count": 20,
   "metadata": {},
   "outputs": [
    {
     "output_type": "execute_result",
     "data": {
      "text/plain": [
       "'Khan'"
      ]
     },
     "metadata": {},
     "execution_count": 20
    }
   ],
   "source": [
    "whowon=grouptotalvotes[grouptotalvotes['Voter ID']==grouptotalvotes['Voter ID'].max()].iat[0,0]\n",
    "whowon"
   ]
  },
  {
   "cell_type": "code",
   "execution_count": 25,
   "metadata": {},
   "outputs": [
    {
     "output_type": "stream",
     "name": "stdout",
     "text": [
      "\nElection Results\n-------------------------\nTotal Votes: 3521001\n-------------------------\nKhan: 63.000% (2218231)\nCorrey:20.000% (704200)\nLi: 14.000% (492940)\nO'Tooley: 3.000% (105630)\n-------------------------\nWinner: Khan\n-------------------------\n"
     ]
    }
   ],
   "source": [
    "writestring=f'''\n",
    "Election Results\n",
    "-------------------------\n",
    "Total Votes: {totalnumvotes}\n",
    "-------------------------\n",
    "Khan: {khan:.3%} ({khanvote})\n",
    "Correy:{correy:.3%} ({correyvote})\n",
    "Li: {li:.3%} ({livote})\n",
    "O'Tooley: {otool:.3%} ({otoolvote})\n",
    "-------------------------\n",
    "Winner: {whowon}\n",
    "-------------------------'''\n",
    "\n",
    "print(writestring)"
   ]
  },
  {
   "cell_type": "code",
   "execution_count": 26,
   "metadata": {},
   "outputs": [],
   "source": [
    "textfile=open('analysis//pypoll.txt','w')\n",
    "textfile.write(writestring)\n",
    "textfile.close()"
   ]
  },
  {
   "cell_type": "code",
   "execution_count": null,
   "metadata": {},
   "outputs": [],
   "source": []
  }
 ]
}