{
 "metadata": {
  "language_info": {
   "codemirror_mode": {
    "name": "ipython",
    "version": 3
   },
   "file_extension": ".py",
   "mimetype": "text/x-python",
   "name": "python",
   "nbconvert_exporter": "python",
   "pygments_lexer": "ipython3",
   "version": "3.8.3-final"
  },
  "orig_nbformat": 2,
  "kernelspec": {
   "name": "Python 3.8.3 64-bit ('base': conda)",
   "display_name": "Python 3.8.3 64-bit ('base': conda)",
   "metadata": {
    "interpreter": {
     "hash": "9222ec844bc097f69fd4983cef35d171ad24af62747ab3b9b2bb3c6dcc1d781e"
    }
   }
  }
 },
 "nbformat": 4,
 "nbformat_minor": 2,
 "cells": [
  {
   "source": [
    "## PyBank\n",
    "\n",
    "![Revenue](Images/revenue-per-lead.png)\n",
    "\n",
    "* In this challenge, you are tasked with creating a Python script for analyzing the financial records of your company. You will give a set of financial data called [budget_data.csv](PyBank/Resources/budget_data.csv). The dataset is composed of two columns: `Date` and `Profit/Losses`. (Thankfully, your company has rather lax standards for accounting so the records are simple.)\n",
    "\n",
    "* Your task is to create a Python script that analyzes the records to calculate each of the following:\n",
    "\n",
    "  * The total number of months included in the dataset\n",
    "\n",
    "  * The net total amount of \"Profit/Losses\" over the entire period\n",
    "\n",
    "  * The average of the changes in \"Profit/Losses\" over the entire period\n",
    "\n",
    "  * The greatest increase in profits (date and amount) over the entire period\n",
    "\n",
    "  * The greatest decrease in losses (date and amount) over the entire period\n",
    "\n",
    "* As an example, your analysis should look similar to the one below:\n",
    "\n",
    "  ```text\n",
    "  Financial Analysis\n",
    "  ----------------------------\n",
    "  Total Months: 86\n",
    "  Total: $38382578\n",
    "  Average  Change: $-2315.12\n",
    "  Greatest Increase in Profits: Feb-2012 ($1926159)\n",
    "  Greatest Decrease in Profits: Sep-2013 ($-2196167)\n",
    "  ```\n",
    "\n",
    "* In addition, your final script should both print the analysis to the terminal and export a text file with the results."
   ],
   "cell_type": "markdown",
   "metadata": {}
  },
  {
   "cell_type": "code",
   "execution_count": 2,
   "metadata": {},
   "outputs": [],
   "source": [
    "import pandas as pd "
   ]
  },
  {
   "cell_type": "code",
   "execution_count": 3,
   "metadata": {},
   "outputs": [
    {
     "output_type": "execute_result",
     "data": {
      "text/plain": [
       "        Date  Profit/Losses\n",
       "0   Jan-2010         867884\n",
       "1   Feb-2010         984655\n",
       "2   Mar-2010         322013\n",
       "3   Apr-2010         -69417\n",
       "4   May-2010         310503\n",
       "..       ...            ...\n",
       "81  Oct-2016         102685\n",
       "82  Nov-2016         795914\n",
       "83  Dec-2016          60988\n",
       "84  Jan-2017         138230\n",
       "85  Feb-2017         671099\n",
       "\n",
       "[86 rows x 2 columns]"
      ],
      "text/html": "<div>\n<style scoped>\n    .dataframe tbody tr th:only-of-type {\n        vertical-align: middle;\n    }\n\n    .dataframe tbody tr th {\n        vertical-align: top;\n    }\n\n    .dataframe thead th {\n        text-align: right;\n    }\n</style>\n<table border=\"1\" class=\"dataframe\">\n  <thead>\n    <tr style=\"text-align: right;\">\n      <th></th>\n      <th>Date</th>\n      <th>Profit/Losses</th>\n    </tr>\n  </thead>\n  <tbody>\n    <tr>\n      <th>0</th>\n      <td>Jan-2010</td>\n      <td>867884</td>\n    </tr>\n    <tr>\n      <th>1</th>\n      <td>Feb-2010</td>\n      <td>984655</td>\n    </tr>\n    <tr>\n      <th>2</th>\n      <td>Mar-2010</td>\n      <td>322013</td>\n    </tr>\n    <tr>\n      <th>3</th>\n      <td>Apr-2010</td>\n      <td>-69417</td>\n    </tr>\n    <tr>\n      <th>4</th>\n      <td>May-2010</td>\n      <td>310503</td>\n    </tr>\n    <tr>\n      <th>...</th>\n      <td>...</td>\n      <td>...</td>\n    </tr>\n    <tr>\n      <th>81</th>\n      <td>Oct-2016</td>\n      <td>102685</td>\n    </tr>\n    <tr>\n      <th>82</th>\n      <td>Nov-2016</td>\n      <td>795914</td>\n    </tr>\n    <tr>\n      <th>83</th>\n      <td>Dec-2016</td>\n      <td>60988</td>\n    </tr>\n    <tr>\n      <th>84</th>\n      <td>Jan-2017</td>\n      <td>138230</td>\n    </tr>\n    <tr>\n      <th>85</th>\n      <td>Feb-2017</td>\n      <td>671099</td>\n    </tr>\n  </tbody>\n</table>\n<p>86 rows × 2 columns</p>\n</div>"
     },
     "metadata": {},
     "execution_count": 3
    }
   ],
   "source": [
    "pybankdata=pd.read_csv('budget_data.csv')\n",
    "pybankdata"
   ]
  },
  {
   "cell_type": "code",
   "execution_count": 23,
   "metadata": {},
   "outputs": [],
   "source": [
    "# !st part done\n",
    "totalmonths=len(pybankdata['Date'])"
   ]
  },
  {
   "cell_type": "code",
   "execution_count": 34,
   "metadata": {},
   "outputs": [
    {
     "output_type": "execute_result",
     "data": {
      "text/plain": [
       "38382578"
      ]
     },
     "metadata": {},
     "execution_count": 34
    }
   ],
   "source": [
    "#2nd part done\n",
    "totalprofitloss=pybankdata['Profit/Losses'].sum()\n",
    "totalprofitloss"
   ]
  },
  {
   "cell_type": "code",
   "execution_count": 10,
   "metadata": {},
   "outputs": [
    {
     "output_type": "execute_result",
     "data": {
      "text/plain": [
       "-2315.1176470588234"
      ]
     },
     "metadata": {},
     "execution_count": 10
    }
   ],
   "source": [
    "#3rd part done\n",
    "\n",
    "pybankdata['difference']=pybankdata['Profit/Losses'].diff()\n",
    "averagechange=pybankdata['difference'].mean()\n",
    "averagechange"
   ]
  },
  {
   "cell_type": "code",
   "execution_count": 21,
   "metadata": {},
   "outputs": [],
   "source": [
    "greatestinc=pybankdata['difference'].max()\n",
    "greatestmonth=pybankdata[pybankdata['difference']==greatestinc].iat[0,0]\n",
    "greatestdec=pybankdata['difference'].min()\n",
    "greatestmonthdec=pybankdata[pybankdata['difference']==greatestdec].iat[0,0]\n"
   ]
  },
  {
   "cell_type": "code",
   "execution_count": 31,
   "metadata": {},
   "outputs": [
    {
     "output_type": "stream",
     "name": "stdout",
     "text": [
      "\nFinancial Analysis\n----------------------------\nTotal Months: 86\nTotal: $ 38382578\nAverage  Change: $ -2315.12\nGreatest Increase in Profits: Feb-2012 (1926159)\nGreatest Decrease in Profits: Sep-2013 (-2196167)\n"
     ]
    }
   ],
   "source": [
    "writestring=f'''\n",
    "Financial Analysis\n",
    "----------------------------\n",
    "Total Months: {totalmonths}\n",
    "Total: $ {totalprofitloss}\n",
    "Average  Change: $ {averagechange:.2f}\n",
    "Greatest Increase in Profits: {greatestmonth} ({greatestinc:.0f})\n",
    "Greatest Decrease in Profits: {greatestmonthdec} ({greatestdec:.0f})'''\n",
    "\n",
    "print(writestring)"
   ]
  },
  {
   "cell_type": "code",
   "execution_count": 33,
   "metadata": {},
   "outputs": [],
   "source": [
    "textfile=open('analysis//pybank.txt','w')\n",
    "\n",
    "textfile.write(writestring)\n",
    "textfile.close()"
   ]
  },
  {
   "cell_type": "code",
   "execution_count": null,
   "metadata": {},
   "outputs": [],
   "source": []
  }
 ]
}